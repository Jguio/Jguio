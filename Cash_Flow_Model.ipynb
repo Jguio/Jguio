{
  "nbformat": 4,
  "nbformat_minor": 0,
  "metadata": {
    "colab": {
      "name": "Cash Flow Model",
      "provenance": [],
      "authorship_tag": "ABX9TyPNw4I5zuLMBDOj1LPTk1jA",
      "include_colab_link": true
    },
    "kernelspec": {
      "name": "python3",
      "display_name": "Python 3"
    },
    "language_info": {
      "name": "python"
    }
  },
  "cells": [
    {
      "cell_type": "markdown",
      "metadata": {
        "id": "view-in-github",
        "colab_type": "text"
      },
      "source": [
        "<a href=\"https://colab.research.google.com/github/Jguio/Jguio/blob/main/Cash_Flow_Model.ipynb\" target=\"_parent\"><img src=\"https://colab.research.google.com/assets/colab-badge.svg\" alt=\"Open In Colab\"/></a>"
      ]
    },
    {
      "cell_type": "markdown",
      "source": [
        "Primero, asegúrese de tener las herramientas que necesita"
      ],
      "metadata": {
        "id": "hCrTh_l9XjfV"
      }
    },
    {
      "cell_type": "code",
      "execution_count": 1,
      "metadata": {
        "colab": {
          "base_uri": "https://localhost:8080/"
        },
        "id": "fi6rruDkTq-B",
        "outputId": "f58ed781-2eb9-4dda-de18-640fedc15280"
      },
      "outputs": [
        {
          "output_type": "stream",
          "name": "stdout",
          "text": [
            "Collecting numpy_financial\n",
            "  Downloading numpy_financial-1.0.0-py3-none-any.whl (14 kB)\n",
            "Requirement already satisfied: numpy>=1.15 in /usr/local/lib/python3.7/dist-packages (from numpy_financial) (1.19.5)\n",
            "Installing collected packages: numpy-financial\n",
            "Successfully installed numpy-financial-1.0.0\n"
          ]
        }
      ],
      "source": [
        "# initial set-up\n",
        "!pip install numpy_financial\n",
        "import pandas as pd\n",
        "import numpy_financial as npf\n",
        "import matplotlib.pyplot as plt\n",
        "from collections import namedtuple"
      ]
    },
    {
      "cell_type": "markdown",
      "source": [
        "Ahora, use NumPy para configurar las características del préstamo"
      ],
      "metadata": {
        "id": "zLVmbixvXwxP"
      }
    },
    {
      "cell_type": "code",
      "source": [
        "# loan characteristics\n",
        "original_balance = 500_000\n",
        "coupon = 0.08\n",
        "term = 120"
      ],
      "metadata": {
        "id": "NuEELEdST83K"
      },
      "execution_count": 12,
      "outputs": []
    },
    {
      "cell_type": "code",
      "source": [
        "# payments\n",
        "periods = range(1, term+1)\n",
        "interest_payment = npf.ipmt(\n",
        "    rate=coupon / 12, per=periods, nper=term, pv=-original_balance)\n",
        "principal_payment = npf.ppmt(\n",
        "    rate=coupon / 12, per=periods, nper=term, pv=-original_balance)"
      ],
      "metadata": {
        "id": "OEx2mD6-WQZD"
      },
      "execution_count": 13,
      "outputs": []
    },
    {
      "cell_type": "markdown",
      "source": [
        "A continuación, use Matplotlib para crear un gráfico"
      ],
      "metadata": {
        "id": "Vyy-FGFVX843"
      }
    },
    {
      "cell_type": "code",
      "source": [
        "plt.stackplot(periods, interest_payment, principal_payment, \n",
        "              labels=['Interest', 'Principal'])\n",
        "plt.legend(loc='upper left')\n",
        "plt.xlabel(\"Period\")\n",
        "plt.ylabel(\"Payment\")\n",
        "plt.margins(0, 0)"
      ],
      "metadata": {
        "colab": {
          "base_uri": "https://localhost:8080/",
          "height": 281
        },
        "id": "inivz68qWTaC",
        "outputId": "9f352b22-6bb8-4324-8c9f-53ab55f572f1"
      },
      "execution_count": 15,
      "outputs": [
        {
          "output_type": "display_data",
          "data": {
            "image/png": "[encoded data removed]",
            "text/plain": [
              "<Figure size 432x288 with 1 Axes>"
            ]
          },
          "metadata": {
            "needs_background": "light"
          }
        }
      ]
    },
    {
      "cell_type": "markdown",
      "source": [
        "Finalmente, use pandas para crear una tabla"
      ],
      "metadata": {
        "id": "S-rnxJvNYD5F"
      }
    },
    {
      "cell_type": "code",
      "source": [
        "_# pandas float formatting_\n",
        "pd.options.display.float_format = '{:,.2f}'.format\n",
        "\n",
        "_# cash flow table_\n",
        "cf_data = {'Interest': interest_payment, 'Principal': principal_payment}\n",
        "cf_table = pd.DataFrame(data=cf_data, index=periods)\n",
        "cf_table['Payment'] = cf_table['Interest'] + cf_table['Principal']\n",
        "cf_table['Ending Balance'] = original_balance - \\\n",
        "                             cf_table['Principal'].cumsum()\n",
        "cf_table['Beginning Balance'] = [original_balance] + \\\n",
        "                                list(cf_table['Ending Balance'])[:-1]\n",
        "cf_table = cf_table[['Beginning Balance', 'Payment', 'Interest', \n",
        "                     'Principal', 'Ending Balance']]\n",
        "cf_table.head(13)"
      ],
      "metadata": {
        "colab": {
          "base_uri": "https://localhost:8080/",
          "height": 457
        },
        "id": "phExiBxkXFId",
        "outputId": "332feeb6-a549-49b4-cba1-49fda245b444"
      },
      "execution_count": 18,
      "outputs": [
        {
          "output_type": "execute_result",
          "data": {
            "text/html": [
              "\n",
              "  <div id=\"df-b85bdfbb-f329-4c17-88df-147f34c2b8f1\">\n",
              "    <div class=\"colab-df-container\">\n",
              "      <div>\n",
              "<style scoped>\n",
              "    .dataframe tbody tr th:only-of-type {\n",
              "        vertical-align: middle;\n",
              "    }\n",
              "\n",
              "    .dataframe tbody tr th {\n",
              "        vertical-align: top;\n",
              "    }\n",
              "\n",
              "    .dataframe thead th {\n",
              "        text-align: right;\n",
              "    }\n",
              "</style>\n",
              "<table border=\"1\" class=\"dataframe\">\n",
              "  <thead>\n",
              "    <tr style=\"text-align: right;\">\n",
              "      <th></th>\n",
              "      <th>Beginning Balance</th>\n",
              "      <th>Payment</th>\n",
              "      <th>Interest</th>\n",
              "      <th>Principal</th>\n",
              "      <th>Ending Balance</th>\n",
              "    </tr>\n",
              "  </thead>\n",
              "  <tbody>\n",
              "    <tr>\n",
              "      <th>1</th>\n",
              "      <td>500,000.00</td>\n",
              "      <td>6,066.38</td>\n",
              "      <td>3,333.33</td>\n",
              "      <td>2,733.05</td>\n",
              "      <td>497,266.95</td>\n",
              "    </tr>\n",
              "    <tr>\n",
              "      <th>2</th>\n",
              "      <td>497,266.95</td>\n",
              "      <td>6,066.38</td>\n",
              "      <td>3,315.11</td>\n",
              "      <td>2,751.27</td>\n",
              "      <td>494,515.69</td>\n",
              "    </tr>\n",
              "    <tr>\n",
              "      <th>3</th>\n",
              "      <td>494,515.69</td>\n",
              "      <td>6,066.38</td>\n",
              "      <td>3,296.77</td>\n",
              "      <td>2,769.61</td>\n",
              "      <td>491,746.08</td>\n",
              "    </tr>\n",
              "    <tr>\n",
              "      <th>4</th>\n",
              "      <td>491,746.08</td>\n",
              "      <td>6,066.38</td>\n",
              "      <td>3,278.31</td>\n",
              "      <td>2,788.07</td>\n",
              "      <td>488,958.01</td>\n",
              "    </tr>\n",
              "    <tr>\n",
              "      <th>5</th>\n",
              "      <td>488,958.01</td>\n",
              "      <td>6,066.38</td>\n",
              "      <td>3,259.72</td>\n",
              "      <td>2,806.66</td>\n",
              "      <td>486,151.35</td>\n",
              "    </tr>\n",
              "    <tr>\n",
              "      <th>6</th>\n",
              "      <td>486,151.35</td>\n",
              "      <td>6,066.38</td>\n",
              "      <td>3,241.01</td>\n",
              "      <td>2,825.37</td>\n",
              "      <td>483,325.98</td>\n",
              "    </tr>\n",
              "    <tr>\n",
              "      <th>7</th>\n",
              "      <td>483,325.98</td>\n",
              "      <td>6,066.38</td>\n",
              "      <td>3,222.17</td>\n",
              "      <td>2,844.21</td>\n",
              "      <td>480,481.77</td>\n",
              "    </tr>\n",
              "    <tr>\n",
              "      <th>8</th>\n",
              "      <td>480,481.77</td>\n",
              "      <td>6,066.38</td>\n",
              "      <td>3,203.21</td>\n",
              "      <td>2,863.17</td>\n",
              "      <td>477,618.60</td>\n",
              "    </tr>\n",
              "    <tr>\n",
              "      <th>9</th>\n",
              "      <td>477,618.60</td>\n",
              "      <td>6,066.38</td>\n",
              "      <td>3,184.12</td>\n",
              "      <td>2,882.26</td>\n",
              "      <td>474,736.35</td>\n",
              "    </tr>\n",
              "    <tr>\n",
              "      <th>10</th>\n",
              "      <td>474,736.35</td>\n",
              "      <td>6,066.38</td>\n",
              "      <td>3,164.91</td>\n",
              "      <td>2,901.47</td>\n",
              "      <td>471,834.87</td>\n",
              "    </tr>\n",
              "    <tr>\n",
              "      <th>11</th>\n",
              "      <td>471,834.87</td>\n",
              "      <td>6,066.38</td>\n",
              "      <td>3,145.57</td>\n",
              "      <td>2,920.81</td>\n",
              "      <td>468,914.06</td>\n",
              "    </tr>\n",
              "    <tr>\n",
              "      <th>12</th>\n",
              "      <td>468,914.06</td>\n",
              "      <td>6,066.38</td>\n",
              "      <td>3,126.09</td>\n",
              "      <td>2,940.29</td>\n",
              "      <td>465,973.77</td>\n",
              "    </tr>\n",
              "    <tr>\n",
              "      <th>13</th>\n",
              "      <td>465,973.77</td>\n",
              "      <td>6,066.38</td>\n",
              "      <td>3,106.49</td>\n",
              "      <td>2,959.89</td>\n",
              "      <td>463,013.89</td>\n",
              "    </tr>\n",
              "  </tbody>\n",
              "</table>\n",
              "</div>\n",
              "      <button class=\"colab-df-convert\" onclick=\"convertToInteractive('df-b85bdfbb-f329-4c17-88df-147f34c2b8f1')\"\n",
              "              title=\"Convert this dataframe to an interactive table.\"\n",
              "              style=\"display:none;\">\n",
              "        \n",
              "  <svg xmlns=\"http://www.w3.org/2000/svg\" height=\"24px\"viewBox=\"0 0 24 24\"\n",
              "       width=\"24px\">\n",
              "    <path d=\"M0 0h24v24H0V0z\" fill=\"none\"/>\n",
              "    <path d=\"M18.56 5.44l.94 2.06.94-2.06 2.06-.94-2.06-.94-.94-2.06-.94 2.06-2.06.94zm-11 1L8.5 8.5l.94-2.06 2.06-.94-2.06-.94L8.5 2.5l-.94 2.06-2.06.94zm10 10l.94 2.06.94-2.06 2.06-.94-2.06-.94-.94-2.06-.94 2.06-2.06.94z\"/><path d=\"M17.41 7.96l-1.37-1.37c-.4-.4-.92-.59-1.43-.59-.52 0-1.04.2-1.43.59L10.3 9.45l-7.72 7.72c-.78.78-.78 2.05 0 2.83L4 21.41c.39.39.9.59 1.41.59.51 0 1.02-.2 1.41-.59l7.78-7.78 2.81-2.81c.8-.78.8-2.07 0-2.86zM5.41 20L4 18.59l7.72-7.72 1.47 1.35L5.41 20z\"/>\n",
              "  </svg>\n",
              "      </button>\n",
              "      \n",
              "  <style>\n",
              "    .colab-df-container {\n",
              "      display:flex;\n",
              "      flex-wrap:wrap;\n",
              "      gap: 12px;\n",
              "    }\n",
              "\n",
              "    .colab-df-convert {\n",
              "      background-color: #E8F0FE;\n",
              "      border: none;\n",
              "      border-radius: 50%;\n",
              "      cursor: pointer;\n",
              "      display: none;\n",
              "      fill: #1967D2;\n",
              "      height: 32px;\n",
              "      padding: 0 0 0 0;\n",
              "      width: 32px;\n",
              "    }\n",
              "\n",
              "    .colab-df-convert:hover {\n",
              "      background-color: #E2EBFA;\n",
              "      box-shadow: 0px 1px 2px rgba(60, 64, 67, 0.3), 0px 1px 3px 1px rgba(60, 64, 67, 0.15);\n",
              "      fill: #174EA6;\n",
              "    }\n",
              "\n",
              "    [theme=dark] .colab-df-convert {\n",
              "      background-color: #3B4455;\n",
              "      fill: #D2E3FC;\n",
              "    }\n",
              "\n",
              "    [theme=dark] .colab-df-convert:hover {\n",
              "      background-color: #434B5C;\n",
              "      box-shadow: 0px 1px 3px 1px rgba(0, 0, 0, 0.15);\n",
              "      filter: drop-shadow(0px 1px 2px rgba(0, 0, 0, 0.3));\n",
              "      fill: #FFFFFF;\n",
              "    }\n",
              "  </style>\n",
              "\n",
              "      <script>\n",
              "        const buttonEl =\n",
              "          document.querySelector('#df-b85bdfbb-f329-4c17-88df-147f34c2b8f1 button.colab-df-convert');\n",
              "        buttonEl.style.display =\n",
              "          google.colab.kernel.accessAllowed ? 'block' : 'none';\n",
              "\n",
              "        async function convertToInteractive(key) {\n",
              "          const element = document.querySelector('#df-b85bdfbb-f329-4c17-88df-147f34c2b8f1');\n",
              "          const dataTable =\n",
              "            await google.colab.kernel.invokeFunction('convertToInteractive',\n",
              "                                                     [key], {});\n",
              "          if (!dataTable) return;\n",
              "\n",
              "          const docLinkHtml = 'Like what you see? Visit the ' +\n",
              "            '<a target=\"_blank\" href=https://colab.research.google.com/notebooks/data_table.ipynb>data table notebook</a>'\n",
              "            + ' to learn more about interactive tables.';\n",
              "          element.innerHTML = '';\n",
              "          dataTable['output_type'] = 'display_data';\n",
              "          await google.colab.output.renderOutput(dataTable, element);\n",
              "          const docLink = document.createElement('div');\n",
              "          docLink.innerHTML = docLinkHtml;\n",
              "          element.appendChild(docLink);\n",
              "        }\n",
              "      </script>\n",
              "    </div>\n",
              "  </div>\n",
              "  "
            ],
            "text/plain": [
              "    Beginning Balance  Payment  Interest  Principal  Ending Balance\n",
              "1          500,000.00 6,066.38  3,333.33   2,733.05      497,266.95\n",
              "2          497,266.95 6,066.38  3,315.11   2,751.27      494,515.69\n",
              "3          494,515.69 6,066.38  3,296.77   2,769.61      491,746.08\n",
              "4          491,746.08 6,066.38  3,278.31   2,788.07      488,958.01\n",
              "5          488,958.01 6,066.38  3,259.72   2,806.66      486,151.35\n",
              "6          486,151.35 6,066.38  3,241.01   2,825.37      483,325.98\n",
              "7          483,325.98 6,066.38  3,222.17   2,844.21      480,481.77\n",
              "8          480,481.77 6,066.38  3,203.21   2,863.17      477,618.60\n",
              "9          477,618.60 6,066.38  3,184.12   2,882.26      474,736.35\n",
              "10         474,736.35 6,066.38  3,164.91   2,901.47      471,834.87\n",
              "11         471,834.87 6,066.38  3,145.57   2,920.81      468,914.06\n",
              "12         468,914.06 6,066.38  3,126.09   2,940.29      465,973.77\n",
              "13         465,973.77 6,066.38  3,106.49   2,959.89      463,013.89"
            ]
          },
          "metadata": {},
          "execution_count": 18
        }
      ]
    },
    {
      "cell_type": "markdown",
      "source": [
        "Ahora ha codificado un perfil de cartera de préstamos de amortización programada simple utilizando Python\n"
      ],
      "metadata": {
        "id": "WNfprfSOZxaI"
      }
    }
  ]
}